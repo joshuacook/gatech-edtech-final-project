{
 "cells": [
  {
   "cell_type": "code",
   "execution_count": 18,
   "id": "34a8eddf-c5b5-4240-acb4-b10feace6042",
   "metadata": {},
   "outputs": [
    {
     "name": "stdout",
     "output_type": "stream",
     "text": [
      "\n",
      "Text Chat Response:\n",
      "{'message': 'The capital of France is Paris.', 'json': None, 'error': None, 'raw_content': None}\n",
      "Testing with image: notes-1.png\n",
      "Query: Please convert this image to well formatted markdown with inline and block latex so that it can easily be handled by pandoc\n",
      "Image size: 270640 bytes\n",
      "Request data: {'query': 'Please convert this image to well formatted markdown with inline and block latex so that it can easily be handled by pandoc', 'previous_messages': '[]'}\n",
      "\n",
      "Image Chat Response:\n",
      "{'message': \"Here's the content formatted in markdown with LaTeX:\\n\\n# Linear Algebra\\n\\nIn linear algebra we study:\\n- Linear systems of equations\\n- Matrices\\n- etc.\\n\\nIn abstract or modern algebra topics include:\\n- Groups\\n- Rings\\n- Fields (Finite fields are used in algebraic coding theory)\\n- Modules (or [Categories])\\n\\nMatrix notation: $A = [A_{ij}]_{i,j=1,2,...}$\\n\\nExample:\\n\\n$$A = \\\\begin{bmatrix} \\na_{11} & a_{12} \\\\\\\\\\na_{21} & a_{22}\\n\\\\end{bmatrix}$$\\n\\nIf $A = A^T$ then $A$ is square and symmetric.\\n\\n$$A^T = \\\\begin{bmatrix}\\na_{11} & a_{21} \\\\\\\\\\na_{12} & a_{22}\\n\\\\end{bmatrix}$$\", 'json': None, 'error': None, 'raw_content': None}\n"
     ]
    }
   ],
   "source": [
    "import requests\n",
    "from PIL import Image\n",
    "\n",
    "# Since you're on the same Docker network, use the service name as the host\n",
    "API_BASE_URL = \"http://api:8000\"  # Assuming FastAPI runs on port 8000\n",
    "\n",
    "\n",
    "def load_and_display_image(image_path):\n",
    "    \"\"\"Load and display an image in the notebook\"\"\"\n",
    "    img = Image.open(image_path)\n",
    "    display(img)\n",
    "    return image_path\n",
    "\n",
    "\n",
    "def test_image_chat(image_path, query):\n",
    "    \"\"\"Test the chat with image endpoint\"\"\"\n",
    "    print(f\"Testing with image: {image_path}\")\n",
    "    print(f\"Query: {query}\")\n",
    "    \n",
    "    # Verify image exists and get size\n",
    "    import os\n",
    "    if os.path.exists(image_path):\n",
    "        print(f\"Image size: {os.path.getsize(image_path)} bytes\")\n",
    "    else:\n",
    "        print(f\"Warning: Image file not found at {image_path}\")\n",
    "        \n",
    "    # Prepare the files and data\n",
    "    files = {\"image\": (\"image.jpg\", open(image_path, \"rb\"), \"image/jpeg\")}\n",
    "    data = {\n",
    "        \"query\": query,\n",
    "        \"previous_messages\": \"[]\",\n",
    "    }\n",
    "    print(f\"Request data: {data}\")\n",
    "    \n",
    "    # Make the request\n",
    "    url = f\"{API_BASE_URL}/chat/with-image\"\n",
    "    try:\n",
    "        response = requests.post(url, files=files, data=data)\n",
    "        response.raise_for_status()\n",
    "        return response.json()\n",
    "    except requests.exceptions.RequestException as e:\n",
    "        return f\"Error: {str(e)}\"\n",
    "\n",
    "\n",
    "def test_text_chat(query, previous_messages=None):\n",
    "    \"\"\"Test the regular chat endpoint\"\"\"\n",
    "    if previous_messages is None:\n",
    "        previous_messages = []\n",
    "\n",
    "    data = {\"query\": query, \"messages\": previous_messages, \"expect_json\": False}\n",
    "\n",
    "    url = f\"{API_BASE_URL}/chat\"\n",
    "    try:\n",
    "        response = requests.post(url, json=data)\n",
    "        response.raise_for_status()\n",
    "        return response.json()\n",
    "    except requests.exceptions.RequestException as e:\n",
    "        return f\"Error: {str(e)}\"\n",
    "\n",
    "text_response = test_text_chat(\"What is the capital of France?\")\n",
    "print(\"\\nText Chat Response:\")\n",
    "print(text_response)\n",
    "\n",
    "image_path = \"notes-1.png\"\n",
    "\n",
    "image_response = test_image_chat(image_path=image_path, query=\"\"\"Please convert this image to well formatted markdown with inline and block latex so that it can easily be handled by pandoc\"\"\")\n",
    "print(\"\\nImage Chat Response:\")\n",
    "print(image_response)"
   ]
  },
  {
   "cell_type": "code",
   "execution_count": 19,
   "id": "2934fd00-d10a-4728-abff-bc84374988ee",
   "metadata": {},
   "outputs": [
    {
     "name": "stdout",
     "output_type": "stream",
     "text": [
      "Here's the content formatted in markdown with LaTeX:\n",
      "\n",
      "# Linear Algebra\n",
      "\n",
      "In linear algebra we study:\n",
      "- Linear systems of equations\n",
      "- Matrices\n",
      "- etc.\n",
      "\n",
      "In abstract or modern algebra topics include:\n",
      "- Groups\n",
      "- Rings\n",
      "- Fields (Finite fields are used in algebraic coding theory)\n",
      "- Modules (or [Categories])\n",
      "\n",
      "Matrix notation: $A = [A_{ij}]_{i,j=1,2,...}$\n",
      "\n",
      "Example:\n",
      "\n",
      "$$A = \\begin{bmatrix} \n",
      "a_{11} & a_{12} \\\\\n",
      "a_{21} & a_{22}\n",
      "\\end{bmatrix}$$\n",
      "\n",
      "If $A = A^T$ then $A$ is square and symmetric.\n",
      "\n",
      "$$A^T = \\begin{bmatrix}\n",
      "a_{11} & a_{21} \\\\\n",
      "a_{12} & a_{22}\n",
      "\\end{bmatrix}$$\n"
     ]
    }
   ],
   "source": [
    "print(image_response[\"message\"])"
   ]
  },
  {
   "cell_type": "code",
   "execution_count": 16,
   "id": "d0eae12a-4ce0-4db6-98f4-a5722cb78492",
   "metadata": {},
   "outputs": [],
   "source": [
    "import base64\n",
    "from anthropic import Anthropic\n",
    "client = Anthropic()\n",
    "MODEL_NAME = \"claude-3-opus-20240229\"\n",
    "\n",
    "def get_base64_encoded_image(image_path):\n",
    "    with open(image_path, \"rb\") as image_file:\n",
    "        binary_data = image_file.read()\n",
    "        base_64_encoded_data = base64.b64encode(binary_data)\n",
    "        base64_string = base_64_encoded_data.decode('utf-8')\n",
    "        return base64_string\n",
    "\n",
    "\n",
    "message_list = [\n",
    "    {\n",
    "        \"role\": 'user',\n",
    "        \"content\": [\n",
    "            {\"type\": \"image\", \"source\": {\"type\": \"base64\", \"media_type\": \"image/png\", \"data\": get_base64_encoded_image(\"notes-1.png\")}},\n",
    "            {\"type\": \"text\", \"text\": \"Transcribe the code in the answer. Only output the code.\"}\n",
    "        ]\n",
    "    }\n",
    "]\n",
    "\n",
    "response = client.messages.create(\n",
    "    model=MODEL_NAME,\n",
    "    max_tokens=2048,\n",
    "    messages=message_list\n",
    ")\n",
    "print(response.content[0].text)"
   ]
  },
  {
   "cell_type": "code",
   "execution_count": 17,
   "id": "ab828173-a937-4190-91d7-7ce5fdd620ed",
   "metadata": {},
   "outputs": [
    {
     "name": "stdout",
     "output_type": "stream",
     "text": [
      "A = [a11  a12]\n",
      "    [a21  a22]\n",
      "\n",
      "If A = AT then\n",
      "A is square\n",
      "    and symmetric\n",
      "\n",
      "Matrix notation: A = [aij], i = 1,2,...\n",
      "                             j = 1,2,...\n",
      "\n",
      "Ex)     [a11  a12]\n",
      "A =     [a12  a22]\n"
     ]
    }
   ],
   "source": []
  },
  {
   "cell_type": "code",
   "execution_count": null,
   "id": "1cc0c458-522b-4986-aafc-e40b769cdf06",
   "metadata": {},
   "outputs": [],
   "source": []
  }
 ],
 "metadata": {
  "kernelspec": {
   "display_name": "Python 3 (ipykernel)",
   "language": "python",
   "name": "python3"
  },
  "language_info": {
   "codemirror_mode": {
    "name": "ipython",
    "version": 3
   },
   "file_extension": ".py",
   "mimetype": "text/x-python",
   "name": "python",
   "nbconvert_exporter": "python",
   "pygments_lexer": "ipython3",
   "version": "3.11.6"
  }
 },
 "nbformat": 4,
 "nbformat_minor": 5
}
