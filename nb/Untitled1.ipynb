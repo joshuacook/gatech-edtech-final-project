{
 "cells": [
  {
   "cell_type": "code",
   "execution_count": 4,
   "id": "4d0b8c96-52f0-45fc-bd4c-dbecc157604b",
   "metadata": {},
   "outputs": [
    {
     "name": "stdout",
     "output_type": "stream",
     "text": [
      "Hash: f0d2591e65a7e60e4c0dc5e4656a95905e4e891215cf134f61ebf6e98cdbc1f7\n",
      "Name: hb-roadmap.docx\n",
      "---\n",
      "Hash: 6e8a83fcc94724b5ebc0aa410c30ef71129bc7ca6a62a01fe9d103f66f433748\n",
      "Name: notes-1.png\n",
      "---\n",
      "Hash: 44b4381785a83905183eeaecd4db3c3958f66997f4196bbb33840eb5fb9158ee\n",
      "Name: syllabus.pdf\n",
      "---\n"
     ]
    }
   ],
   "source": [
    "import requests\n",
    "\n",
    "from pymongo import MongoClient\n",
    "\n",
    "client = MongoClient(\"mongodb://db:27017/\")\n",
    "db = client.chelle\n",
    "\n",
    "assets = db.raw_assets.find({}, {\"file_hash\": 1, \"original_name\": 1, \"_id\": 0})\n",
    "to_list = []\n",
    "for asset in assets:\n",
    "    to_list.append(asset)\n",
    "    print(f\"Hash: {asset['file_hash']}\")\n",
    "    print(f\"Name: {asset['original_name']}\")\n",
    "    print(\"---\")\n",
    "\n",
    "to_list\n",
    "\n",
    "for asset in to_list:\n",
    "    requests.post(f\"http://nginx:80/assets/process_lexemes/{asset['file_hash']}\")"
   ]
  },
  {
   "cell_type": "code",
   "execution_count": null,
   "id": "4b331711-4ed5-4d3e-8c83-79f727f3ca84",
   "metadata": {},
   "outputs": [],
   "source": []
  }
 ],
 "metadata": {
  "kernelspec": {
   "display_name": "Python 3 (ipykernel)",
   "language": "python",
   "name": "python3"
  },
  "language_info": {
   "codemirror_mode": {
    "name": "ipython",
    "version": 3
   },
   "file_extension": ".py",
   "mimetype": "text/x-python",
   "name": "python",
   "nbconvert_exporter": "python",
   "pygments_lexer": "ipython3",
   "version": "3.11.6"
  }
 },
 "nbformat": 4,
 "nbformat_minor": 5
}
