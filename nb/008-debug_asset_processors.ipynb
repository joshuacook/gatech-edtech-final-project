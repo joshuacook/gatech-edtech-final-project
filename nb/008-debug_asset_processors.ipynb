{
 "cells": [
  {
   "cell_type": "code",
   "execution_count": 1,
   "metadata": {},
   "outputs": [],
   "source": [
    "import sys\n",
    "\n",
    "sys.path.append(\"/home/jovyan/api\")\n",
    "\n",
    "from nb.debug import (\n",
    "    setup_debug_session,\n",
    "    execute_single_processor,\n",
    "    check_processor_dependencies,\n",
    "    display_processing_dag,\n",
    ")"
   ]
  },
  {
   "cell_type": "code",
   "execution_count": 5,
   "metadata": {},
   "outputs": [],
   "source": [
    "import os\n",
    "import requests\n",
    "from typing import Optional\n",
    "\n",
    "\n",
    "def upload_test_file(filepath: str, file_type: str, queue_processing: bool = False) -> Optional[str]:\n",
    "    \"\"\"Upload a test file without queueing processors\"\"\"\n",
    "    if not os.path.exists(filepath):\n",
    "        print(f\"File not found: {filepath}\")\n",
    "        return None\n",
    "\n",
    "    try:\n",
    "        with open(filepath, \"rb\") as f:\n",
    "            files = {\n",
    "                \"file\": (\n",
    "                    os.path.basename(filepath),\n",
    "                    f,\n",
    "                    file_type\n",
    "                )\n",
    "            }\n",
    "            params = {\"queue_processing\": str(queue_processing).lower()}\n",
    "            response = requests.post(\n",
    "                \"http://nginx/upload\",\n",
    "                files=files,\n",
    "                params=params\n",
    "            )\n",
    "\n",
    "        if response.status_code == 200:\n",
    "            result = response.json()\n",
    "            return result.get(\"file_hash\")\n",
    "        else:\n",
    "            print(f\"Upload failed with status {response.status_code}\")\n",
    "            return None\n",
    "            \n",
    "    except Exception as e:\n",
    "        print(f\"Error uploading file: {str(e)}\")\n",
    "        return None"
   ]
  },
  {
   "cell_type": "code",
   "execution_count": 6,
   "metadata": {},
   "outputs": [
    {
     "name": "stderr",
     "output_type": "stream",
     "text": [
      "DEBUG:urllib3.connectionpool:Starting new HTTP connection (1): nginx:80\n"
     ]
    }
   ],
   "source": [
    "# Upload your test file without queueing processors\n",
    "file = (\"fixtures/syllabus.pdf\", \"application/pdf\")\n",
    "file_hash = upload_test_file(*file, queue_processing=False)\n",
    "\n",
    "if file_hash:\n",
    "    print(f\"File uploaded successfully. Hash: {file_hash}\")\n",
    "    # Display the full processing DAG\n",
    "    display_processing_dag(file_hash)\n",
    "else:\n",
    "    print(\"Failed to upload test file\")"
   ]
  },
  {
   "cell_type": "code",
   "execution_count": 3,
   "metadata": {},
   "outputs": [],
   "source": [
    "# Setup debug session\n",
    "run_id, trace = setup_debug_session(file_hash)\n",
    "print(f\"Debug session initialized with run_id: {run_id}\")"
   ]
  },
  {
   "cell_type": "code",
   "execution_count": 4,
   "metadata": {},
   "outputs": [],
   "source": [
    "# Process tables (no dependencies)\n",
    "try:\n",
    "    print(\"Processing tables...\")\n",
    "    check_processor_dependencies(\"tables\", file_hash)\n",
    "    result_tables = await execute_single_processor(file_hash, \"tables\", run_id)\n",
    "    print(\"Tables processing complete!\")\n",
    "except Exception as e:\n",
    "    print(f\"Error processing tables: {str(e)}\")"
   ]
  },
  {
   "cell_type": "code",
   "execution_count": 6,
   "metadata": {},
   "outputs": [],
   "source": [
    "# Process images (no dependencies)\n",
    "try:\n",
    "    print(\"Processing images...\")\n",
    "    check_processor_dependencies(\"images\", file_hash)\n",
    "    result_images = await execute_single_processor(file_hash, \"images\", run_id)\n",
    "    print(\"Images processing complete!\")\n",
    "except Exception as e:\n",
    "    print(f\"Error processing images: {str(e)}\")"
   ]
  },
  {
   "cell_type": "code",
   "execution_count": 7,
   "metadata": {},
   "outputs": [],
   "source": [
    "# Process refined (no dependencies)\n",
    "try:\n",
    "    print(\"Processing refined...\")\n",
    "    check_processor_dependencies(\"refined\", file_hash)\n",
    "    result_refined = await execute_single_processor(file_hash, \"refined\", run_id)\n",
    "    print(\"Refined processing complete!\")\n",
    "except Exception as e:\n",
    "    print(f\"Error processing refined: {str(e)}\")"
   ]
  },
  {
   "cell_type": "code",
   "execution_count": 8,
   "metadata": {},
   "outputs": [],
   "source": [
    "# Process refined_metadata (depends on refined)\n",
    "try:\n",
    "    print(\"Processing refined_metadata...\")\n",
    "    check_processor_dependencies(\"refined_metadata\", file_hash)\n",
    "    result_refined_metadata = await execute_single_processor(\n",
    "        file_hash, \"refined_metadata\", run_id\n",
    "    )\n",
    "    print(\"Refined metadata processing complete!\")\n",
    "except Exception as e:\n",
    "    print(f\"Error processing refined_metadata: {str(e)}\")"
   ]
  },
  {
   "cell_type": "code",
   "execution_count": 9,
   "metadata": {},
   "outputs": [],
   "source": [
    "# Process refined_splitting (depends on refined)\n",
    "try:\n",
    "    print(\"Processing refined_splitting...\")\n",
    "    check_processor_dependencies(\"refined_splitting\", file_hash)\n",
    "    result_refined_splitting = await execute_single_processor(\n",
    "        file_hash, \"refined_splitting\", run_id\n",
    "    )\n",
    "    print(\"Refined splitting processing complete!\")\n",
    "except Exception as e:\n",
    "    print(f\"Error processing refined_splitting: {str(e)}\")"
   ]
  },
  {
   "cell_type": "code",
   "execution_count": 10,
   "metadata": {},
   "outputs": [],
   "source": [
    "# Process lexemes (depends on refined_metadata)\n",
    "try:\n",
    "    print(\"Processing lexemes...\")\n",
    "    check_processor_dependencies(\"lexemes\", file_hash)\n",
    "    result_lexemes = await execute_single_processor(file_hash, \"lexemes\", run_id)\n",
    "    print(\"Lexemes processing complete!\")\n",
    "except Exception as e:\n",
    "    print(f\"Error processing lexemes: {str(e)}\")"
   ]
  },
  {
   "cell_type": "code",
   "execution_count": 11,
   "metadata": {},
   "outputs": [],
   "source": [
    "# Process citations (depends on lexemes)\n",
    "try:\n",
    "    print(\"Processing citations...\")\n",
    "    check_processor_dependencies(\"citations\", file_hash)\n",
    "    result_citations = await execute_single_processor(file_hash, \"citations\", run_id)\n",
    "    print(\"Citations processing complete!\")\n",
    "except Exception as e:\n",
    "    print(f\"Error processing citations: {str(e)}\")"
   ]
  },
  {
   "cell_type": "code",
   "execution_count": 12,
   "metadata": {},
   "outputs": [],
   "source": [
    "# Process definitions (depends on citations)\n",
    "try:\n",
    "    print(\"Processing definitions...\")\n",
    "    check_processor_dependencies(\"definitions\", file_hash)\n",
    "    result_definitions = await execute_single_processor(\n",
    "        file_hash, \"definitions\", run_id\n",
    "    )\n",
    "    print(\"Definitions processing complete!\")\n",
    "except Exception as e:\n",
    "    print(f\"Error processing definitions: {str(e)}\")"
   ]
  }
 ],
 "metadata": {
  "kernelspec": {
   "display_name": "Python 3 (ipykernel)",
   "language": "python",
   "name": "python3"
  },
  "language_info": {
   "codemirror_mode": {
    "name": "ipython",
    "version": 3
   },
   "file_extension": ".py",
   "mimetype": "text/x-python",
   "name": "python",
   "nbconvert_exporter": "python",
   "pygments_lexer": "ipython3",
   "version": "3.11.6"
  }
 },
 "nbformat": 4,
 "nbformat_minor": 4
}
