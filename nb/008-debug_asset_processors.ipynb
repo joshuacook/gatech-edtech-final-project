{
 "cells": [
  {
   "cell_type": "code",
   "execution_count": null,
   "metadata": {},
   "outputs": [],
   "source": [
    "import sys\n",
    "sys.path.append('/home/jovyan/api')\n",
    "\n",
    "from nb.debug import (\n",
    "    setup_debug_session,\n",
    "    execute_single_processor,\n",
    "    check_processor_dependencies,\n",
    "    display_processing_dag\n",
    ")"
   ]
  },
  {
   "cell_type": "code",
   "execution_count": null,
   "metadata": {},
   "source": [
    "# Set your file hash here\n",
    "file_hash = \"your_file_hash_here\"  # Replace with actual file hash\n",
    "\n",
    "# Display the full processing DAG\n",
    "display_processing_dag(file_hash)"
   ]
  },
  {
   "cell_type": "code",
   "execution_count": null,
   "metadata": {},
   "source": [
    "# Setup debug session\n",
    "run_id, trace = setup_debug_session(file_hash)\n",
    "print(f\"Debug session initialized with run_id: {run_id}\")"
   ]
  },
  {
   "cell_type": "code",
   "execution_count": null,
   "metadata": {},
   "source": [
    "# Process tables (no dependencies)\n",
    "try:\n",
    "    print(\"Processing tables...\")\n",
    "    check_processor_dependencies(\"tables\", file_hash)\n",
    "    result_tables = await execute_single_processor(file_hash, \"tables\", run_id)\n",
    "    print(\"Tables processing complete!\")\n",
    "except Exception as e:\n",
    "    print(f\"Error processing tables: {str(e)}\")"
   ]
  },
  {
   "cell_type": "code",
   "execution_count": null,
   "metadata": {},
   "source": [
    "# Process images (no dependencies)\n",
    "try:\n",
    "    print(\"Processing images...\")\n",
    "    check_processor_dependencies(\"images\", file_hash)\n",
    "    result_images = await execute_single_processor(file_hash, \"images\", run_id)\n",
    "    print(\"Images processing complete!\")\n",
    "except Exception as e:\n",
    "    print(f\"Error processing images: {str(e)}\")"
   ]
  },
  {
   "cell_type": "code",
   "execution_count": null,
   "metadata": {},
   "source": [
    "# Process refined (no dependencies)\n",
    "try:\n",
    "    print(\"Processing refined...\")\n",
    "    check_processor_dependencies(\"refined\", file_hash)\n",
    "    result_refined = await execute_single_processor(file_hash, \"refined\", run_id)\n",
    "    print(\"Refined processing complete!\")\n",
    "except Exception as e:\n",
    "    print(f\"Error processing refined: {str(e)}\")"
   ]
  },
  {
   "cell_type": "code",
   "execution_count": null,
   "metadata": {},
   "source": [
    "# Process refined_metadata (depends on refined)\n",
    "try:\n",
    "    print(\"Processing refined_metadata...\")\n",
    "    check_processor_dependencies(\"refined_metadata\", file_hash)\n",
    "    result_refined_metadata = await execute_single_processor(file_hash, \"refined_metadata\", run_id)\n",
    "    print(\"Refined metadata processing complete!\")\n",
    "except Exception as e:\n",
    "    print(f\"Error processing refined_metadata: {str(e)}\")"
   ]
  },
  {
   "cell_type": "code",
   "execution_count": null,
   "metadata": {},
   "source": [
    "# Process refined_splitting (depends on refined)\n",
    "try:\n",
    "    print(\"Processing refined_splitting...\")\n",
    "    check_processor_dependencies(\"refined_splitting\", file_hash)\n",
    "    result_refined_splitting = await execute_single_processor(file_hash, \"refined_splitting\", run_id)\n",
    "    print(\"Refined splitting processing complete!\")\n",
    "except Exception as e:\n",
    "    print(f\"Error processing refined_splitting: {str(e)}\")"
   ]
  },
  {
   "cell_type": "code",
   "execution_count": null,
   "metadata": {},
   "source": [
    "# Process lexemes (depends on refined_metadata)\n",
    "try:\n",
    "    print(\"Processing lexemes...\")\n",
    "    check_processor_dependencies(\"lexemes\", file_hash)\n",
    "    result_lexemes = await execute_single_processor(file_hash, \"lexemes\", run_id)\n",
    "    print(\"Lexemes processing complete!\")\n",
    "except Exception as e:\n",
    "    print(f\"Error processing lexemes: {str(e)}\")"
   ]
  },
  {
   "cell_type": "code",
   "execution_count": null,
   "metadata": {},
   "source": [
    "# Process citations (depends on lexemes)\n",
    "try:\n",
    "    print(\"Processing citations...\")\n",
    "    check_processor_dependencies(\"citations\", file_hash)\n",
    "    result_citations = await execute_single_processor(file_hash, \"citations\", run_id)\n",
    "    print(\"Citations processing complete!\")\n",
    "except Exception as e:\n",
    "    print(f\"Error processing citations: {str(e)}\")"
   ]
  },
  {
   "cell_type": "code",
   "execution_count": null,
   "metadata": {},
   "source": [
    "# Process definitions (depends on citations)\n",
    "try:\n",
    "    print(\"Processing definitions...\")\n",
    "    check_processor_dependencies(\"definitions\", file_hash)\n",
    "    result_definitions = await execute_single_processor(file_hash, \"definitions\", run_id)\n",
    "    print(\"Definitions processing complete!\")\n",
    "except Exception as e:\n",
    "    print(f\"Error processing definitions: {str(e)}\")"
   ]
  }
 ],
 "metadata": {
  "kernelspec": {
   "display_name": "Python 3",
   "language": "python",
   "name": "python3"
  },
  "language_info": {
   "codemirror_mode": {
    "name": "ipython",
    "version": 3
   },
   "file_extension": ".py",
   "mimetype": "text/x-python",
   "name": "python",
   "nbconvert_exporter": "python",
   "pygments_lexer": "ipython3",
   "version": "3.8.0"
  }
 },
 "nbformat": 4,
 "nbformat_minor": 4
}
