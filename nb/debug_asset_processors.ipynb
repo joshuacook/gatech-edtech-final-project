{
 "cells": [
  {
   "cell_type": "code",
   "execution_count": null,
   "metadata": {},
   "source": [
    "import sys\n",
    "sys.path.append('/home/jovyan/api')\n",
    "\n",
    "from datetime import datetime\n",
    "from jobs.assets.base import AssetProcessor\n",
    "from utils.db_utils import init_mongo\n",
    "import requests\n",
    "from langfuse import Langfuse\n",
    "import logging\n",
    "\n",
    "# Configure logging\n",
    "logging.basicConfig(level=logging.INFO)\n",
    "\n",
    "# Initialize connections\n",
    "db = init_mongo()"
   ]
  },
  {
   "cell_type": "code",
   "execution_count": null,
   "metadata": {},
   "source": [
    "def setup_debug_session(file_hash: str):\n",
    "    \"\"\"Setup a new debug processing session for an asset\"\"\"\n",
    "    run_id = f\"debug-{datetime.now().strftime('%Y%m%d_%H%M%S_%f')}\"\n",
    "    \n",
    "    # Update asset with debug run_id\n",
    "    db[\"raw_assets\"].update_one(\n",
    "        {\"file_hash\": file_hash},\n",
    "        {\"$set\": {\"current_run_id\": run_id}}\n",
    "    )\n",
    "    \n",
    "    # Initialize trace\n",
    "    trace = Langfuse().trace(\n",
    "        name=\"asset-processing-debug\",\n",
    "        id=run_id,\n",
    "        metadata={\n",
    "            \"file_hash\": file_hash,\n",
    "            \"debug_session\": True,\n",
    "            \"timestamp\": datetime.now().isoformat()\n",
    "        }\n",
    "    )\n",
    "    \n",
    "    return run_id, trace"
   ]
  },
  {
   "cell_type": "code",
   "execution_count": null,
   "metadata": {},
   "source": [
    "def execute_single_processor(file_hash: str, processor_type: str, run_id: str):\n",
    "    \"\"\"\n",
    "    Execute a single processor and return its results\n",
    "    \"\"\"\n",
    "    processor = AssetProcessor(file_hash, processor_type)\n",
    "    \n",
    "    # Create span for this processor\n",
    "    span = processor.trace.span(\n",
    "        name=f\"{processor_type}_processing_debug\",\n",
    "        metadata={\n",
    "            \"processor_type\": processor_type,\n",
    "            \"dependencies\": AssetProcessor.PROCESSOR_REGISTRY[processor_type],\n",
    "            \"debug_execution\": True\n",
    "        }\n",
    "    )\n",
    "    \n",
    "    try:\n",
    "        # Make API call to processor endpoint\n",
    "        headers = {\"X-Span-ID\": span.id, \"X-Run-ID\": run_id}\n",
    "        response = requests.post(\n",
    "            f\"http://nginx:80/assets/process_{processor_type}/{file_hash}\",\n",
    "            headers=headers\n",
    "        )\n",
    "        \n",
    "        if not response.ok:\n",
    "            raise Exception(f\"Processing failed with status {response.status_code}: {response.text}\")\n",
    "            \n",
    "        result = response.json()\n",
    "        \n",
    "        span.event(\n",
    "            name=f\"{processor_type}_completed\",\n",
    "            metadata={\"result\": result}\n",
    "        )\n",
    "        \n",
    "        return result\n",
    "        \n",
    "    except Exception as e:\n",
    "        span.event(\n",
    "            name=f\"{processor_type}_error\",\n",
    "            metadata={\"error\": str(e)},\n",
    "            level=\"error\"\n",
    "        )\n",
    "        raise\n",
    "    finally:\n",
    "        span.end()"
   ]
  },
  {
   "cell_type": "code",
   "execution_count": null,
   "metadata": {},
   "source": [
    "def check_processor_dependencies(processor_type: str):\n",
    "    \"\"\"Check and display dependencies for a processor\"\"\"\n",
    "    deps = AssetProcessor.PROCESSOR_REGISTRY[processor_type]\n",
    "    print(f\"Processor: {processor_type}\")\n",
    "    print(f\"Dependencies: {deps if deps else 'None'}\")\n",
    "    return deps"
   ]
  },
  {
   "cell_type": "code",
   "execution_count": null,
   "metadata": {},
   "source": [
    "def display_processing_dag():\n",
    "    \"\"\"Display the full processing DAG\"\"\"\n",
    "    print(\"Processing DAG:\")\n",
    "    print(\"Initial processors (no dependencies):\")\n",
    "    for proc, deps in AssetProcessor.PROCESSOR_REGISTRY.items():\n",
    "        if not deps:\n",
    "            print(f\"  - {proc}\")\n",
    "    \n",
    "    print(\"\\nDependent processors:\")\n",
    "    for proc, deps in AssetProcessor.PROCESSOR_REGISTRY.items():\n",
    "        if deps:\n",
    "            print(f\"  - {proc} (depends on: {deps})\")"
   ]
  },
  {
   "cell_type": "code",
   "execution_count": null,
   "metadata": {},
   "source": [
    "# Set your file hash and display DAG\n",
    "file_hash = \"your_file_hash_here\"  # Replace with actual file hash\n",
    "display_processing_dag()"
   ]
  },
  {
   "cell_type": "code",
   "execution_count": null,
   "metadata": {},
   "source": [
    "# Setup debug session\n",
    "run_id, trace = setup_debug_session(file_hash)\n",
    "print(f\"Debug session initialized with run_id: {run_id}\")"
   ]
  },
  {
   "cell_type": "code",
   "execution_count": null,
   "metadata": {},
   "source": [
    "# Process tables (no dependencies)\n",
    "try:\n",
    "    print(\"Processing tables...\")\n",
    "    check_processor_dependencies(\"tables\")\n",
    "    result_tables = execute_single_processor(file_hash, \"tables\", run_id)\n",
    "    print(\"Tables processing complete!\")\n",
    "except Exception as e:\n",
    "    print(f\"Error processing tables: {str(e)}\")"
   ]
  },
  {
   "cell_type": "code",
   "execution_count": null,
   "metadata": {},
   "source": [
    "# Process images (no dependencies)\n",
    "try:\n",
    "    print(\"Processing images...\")\n",
    "    check_processor_dependencies(\"images\")\n",
    "    result_images = execute_single_processor(file_hash, \"images\", run_id)\n",
    "    print(\"Images processing complete!\")\n",
    "except Exception as e:\n",
    "    print(f\"Error processing images: {str(e)}\")"
   ]
  },
  {
   "cell_type": "code",
   "execution_count": null,
   "metadata": {},
   "source": [
    "# Process refined (no dependencies)\n",
    "try:\n",
    "    print(\"Processing refined...\")\n",
    "    check_processor_dependencies(\"refined\")\n",
    "    result_refined = execute_single_processor(file_hash, \"refined\", run_id)\n",
    "    print(\"Refined processing complete!\")\n",
    "except Exception as e:\n",
    "    print(f\"Error processing refined: {str(e)}\")"
   ]
  },
  {
   "cell_type": "code",
   "execution_count": null,
   "metadata": {},
   "source": [
    "# Process refined_metadata (depends on refined)\n",
    "try:\n",
    "    print(\"Processing refined_metadata...\")\n",
    "    check_processor_dependencies(\"refined_metadata\")\n",
    "    result_refined_metadata = execute_single_processor(file_hash, \"refined_metadata\", run_id)\n",
    "    print(\"Refined metadata processing complete!\")\n",
    "except Exception as e:\n",
    "    print(f\"Error processing refined_metadata: {str(e)}\")"
   ]
  }
 ],
 "metadata": {
  "kernelspec": {
   "display_name": "Python 3",
   "language": "python",
   "name": "python3"
  },
  "language_info": {
   "codemirror_mode": {
    "name": "ipython",
    "version": 3
   },
   "file_extension": ".py",
   "mimetype": "text/x-python",
   "name": "python",
   "nbconvert_exporter": "python",
   "pygments_lexer": "ipython3",
   "version": "3.8.0"
  }
 },
 "nbformat": 4,
 "nbformat_minor": 4
}
