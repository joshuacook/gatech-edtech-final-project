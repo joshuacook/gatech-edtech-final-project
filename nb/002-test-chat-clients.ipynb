{
 "cells": [
  {
   "cell_type": "code",
   "execution_count": null,
   "metadata": {},
   "outputs": [],
   "source": [
    "import sys\n",
    "\n",
    "sys.path.append(\"/home/jovyan/api\")\n",
    "\n",
    "from routers.chat import chat_call"
   ]
  },
  {
   "cell_type": "code",
   "execution_count": null,
   "metadata": {},
   "outputs": [],
   "source": [
    "# Test basic chat functionality\n",
    "test_query = \"What is 2+2?\"\n",
    "response = chat_call(query=test_query)\n",
    "print(f\"Response: {response['message']}\")"
   ]
  },
  {
   "cell_type": "code",
   "execution_count": null,
   "metadata": {},
   "outputs": [],
   "source": [
    "# Test JSON response\n",
    "test_query = \"Return a JSON object with keys 'a' and 'b' with values 1 and 2\"\n",
    "response = chat_call(query=test_query, expect_json=True)\n",
    "print(f\"JSON Response: {response}\")"
   ]
  },
  {
   "cell_type": "code",
   "execution_count": null,
   "metadata": {},
   "outputs": [],
   "source": [
    "# Test conversation history\n",
    "messages = [\n",
    "    {\"role\": \"user\", \"content\": \"My name is Alice\"},\n",
    "    {\"role\": \"assistant\", \"content\": \"Hello Alice! How can I help you today?\"},\n",
    "    {\"role\": \"user\", \"content\": \"What's my name?\"},\n",
    "]\n",
    "response = chat_call(messages=messages)\n",
    "print(f\"Conversation Response: {response['message']}\")"
   ]
  }
 ],
 "metadata": {
  "kernelspec": {
   "display_name": "Python 3",
   "language": "python",
   "name": "python3"
  },
  "language_info": {
   "codemirror_mode": {
    "name": "ipython",
    "version": 3
   },
   "file_extension": ".py",
   "mimetype": "text/x-python",
   "name": "python",
   "nbconvert_exporter": "python",
   "pygments_lexer": "ipython3",
   "version": "3.8.0"
  }
 },
 "nbformat": 4,
 "nbformat_minor": 4
}
